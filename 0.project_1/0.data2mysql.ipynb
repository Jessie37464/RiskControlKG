{
 "cells": [
  {
   "cell_type": "markdown",
   "metadata": {},
   "source": [
    "# 导入小数据"
   ]
  },
  {
   "cell_type": "code",
   "execution_count": 22,
   "metadata": {
    "collapsed": true
   },
   "outputs": [],
   "source": [
    "# import pymysql\n",
    "\n",
    "# # 连接mysql和光标\n",
    "# connection = pymysql.connect(host='localhost', user='root', password='123456', db='mysql')\n",
    "# cur = connection.cursor()\n",
    "# # 创建表\n",
    "# cur.execute('CREATE TABLE jessie(name VARCHAR(20),age TINYINT(3))')\n",
    "# # 插入数据\n",
    "# sql = 'INSERT INTO jessie (name,age) VALUES (%s,%s)'\n",
    "# cur.execute(sql,('zqx',27))\n",
    "# # 执行查询数据\n",
    "# cur.execute('SELECT * FROM jessie')\n",
    "# print(cur.fetchall())\n",
    "# # 关闭连接和光标\n",
    "# connection.close()\n",
    "# cur.close()\n"
   ]
  },
  {
   "cell_type": "markdown",
   "metadata": {},
   "source": [
    "# 导入大数据"
   ]
  },
  {
   "cell_type": "markdown",
   "metadata": {},
   "source": [
    "## apply表"
   ]
  },
  {
   "cell_type": "code",
   "execution_count": 23,
   "metadata": {},
   "outputs": [],
   "source": [
    "# ## 终端上运行\n",
    "# # 删除表\n",
    "# DROP TABLE if exists kg.apply;\n",
    "# # 创建库\n",
    "# CREATE DATABASE IF NOT EXISTS kg;\n",
    "# # 创建表，单独设置主键\n",
    "# CREATE TABLE kg.apply(id BIGINT,amount BIGINT,term BIGINT,job VARCHAR(20),city VARCHAR(20),parent_phone BIGINT, colleague_phone BIGINT,company_phone BIGINT,applicant BIGINT,status VARCHAR(20));\n",
    "# alter table kg.apply add primary key(id);\n",
    "# # 导入csv文件\n",
    "# load data local infile '/Users/zhengqixin/1.学习/18.kg/0.project_1/data/apply.csv' into table kg.apply FIELDS TERMINATED BY ',' LINES TERMINATED BY '\\n' IGNORE 1 LINES;\n"
   ]
  },
  {
   "cell_type": "markdown",
   "metadata": {},
   "source": [
    "## person表"
   ]
  },
  {
   "cell_type": "code",
   "execution_count": 24,
   "metadata": {},
   "outputs": [],
   "source": [
    "# ## 终端上运行\n",
    "# # 删除表\n",
    "# DROP TABLE if exists kg.person;\n",
    "# # 创建库\n",
    "# CREATE DATABASE IF NOT EXISTS kg;\n",
    "# # 创建表，单独设置主键\n",
    "# CREATE TABLE IF NOT EXISTS kg.person(id BIGINT,name VARCHAR(20),sex VARCHAR(20),phone BIGINT);\n",
    "# alter table kg.person add primary key(id);\n",
    "# # 导入csv文件\n",
    "# load data local infile '/Users/zhengqixin/1.学习/18.kg/0.project_1/data/person.csv' into table kg.person FIELDS TERMINATED BY ',' LINES TERMINATED BY '\\n' IGNORE 1 LINES;\n"
   ]
  },
  {
   "cell_type": "markdown",
   "metadata": {},
   "source": [
    "## phone表"
   ]
  },
  {
   "cell_type": "code",
   "execution_count": 25,
   "metadata": {},
   "outputs": [],
   "source": [
    "# ## 终端上运行\n",
    "# # 删除表\n",
    "# DROP TABLE if exists kg.phone;\n",
    "# # 创建库\n",
    "# CREATE DATABASE IF NOT EXISTS kg;\n",
    "# # 创建表,建表时，设置自增id为主键\n",
    "# CREATE TABLE IF NOT EXISTS kg.phone(from_id BIGINT,to_id BIGINT,start_time VARCHAR(20),end_time VARCHAR(20),id int primary key auto_increment);\n",
    "# # 导入csv文件\n",
    "# load data local infile '/Users/zhengqixin/1.学习/18.kg/0.project_1/data/phone.csv' into table kg.phone FIELDS TERMINATED BY ',' LINES TERMINATED BY '\\n' IGNORE 1 LINES;\n"
   ]
  },
  {
   "cell_type": "code",
   "execution_count": null,
   "metadata": {},
   "outputs": [],
   "source": []
  }
 ],
 "metadata": {
  "kernelspec": {
   "display_name": "Python 3",
   "language": "python",
   "name": "python3"
  },
  "language_info": {
   "codemirror_mode": {
    "name": "ipython",
    "version": 3
   },
   "file_extension": ".py",
   "mimetype": "text/x-python",
   "name": "python",
   "nbconvert_exporter": "python",
   "pygments_lexer": "ipython3",
   "version": "3.8.6"
  }
 },
 "nbformat": 4,
 "nbformat_minor": 0
}